{
  "nbformat": 4,
  "nbformat_minor": 0,
  "metadata": {
    "colab": {
      "provenance": [],
      "authorship_tag": "ABX9TyMbwyMlHMmFKhuVO28WauQD",
      "include_colab_link": true
    },
    "kernelspec": {
      "name": "python3",
      "display_name": "Python 3"
    },
    "language_info": {
      "name": "python"
    }
  },
  "cells": [
    {
      "cell_type": "markdown",
      "metadata": {
        "id": "view-in-github",
        "colab_type": "text"
      },
      "source": [
        "<a href=\"https://colab.research.google.com/github/fdurgam/Trigonometria/blob/main/Actividad_3_Transformaciones_espaciales_y_su_uso_en_IA.ipynb\" target=\"_parent\"><img src=\"https://colab.research.google.com/assets/colab-badge.svg\" alt=\"Open In Colab\"/></a>"
      ]
    },
    {
      "cell_type": "code",
      "execution_count": null,
      "metadata": {
        "id": "1gGBnA9ZMryI"
      },
      "outputs": [],
      "source": []
    },
    {
      "cell_type": "code",
      "source": [],
      "metadata": {
        "id": "gg1aGzzV89H8"
      },
      "execution_count": null,
      "outputs": []
    },
    {
      "cell_type": "markdown",
      "source": [
        "Ejercicio 1: Aumento de Datos\n",
        "\n",
        "Objetivo: Implementar un aumento de datos simple utilizando transformaciones espaciales en imágenes.\n",
        "\n",
        "Instrucciones:\n",
        "\n",
        "- Descarga un conjunto de imágenes de un objeto (por ejemplo, flores, animales, etc.).\n",
        "- Utiliza una biblioteca como OpenCV o PIL en Python para aplicar las siguientes transformaciones a cada imagen:\n",
        "- Rotación (por ejemplo, 30°, 45°).\n",
        "- Escalado (por ejemplo, aumentar y disminuir el tamaño en un 20%).\n",
        "- Traslación (desplazar la imagen 10 píxeles a la derecha y 10 píxeles hacia abajo).\n",
        "- Guarda las imágenes transformadas en un nuevo directorio.\n",
        "\n"
      ],
      "metadata": {
        "id": "tdT32vjWMus4"
      }
    },
    {
      "cell_type": "code",
      "source": [
        "import cv2\n",
        "import os\n",
        "import numpy as np\n",
        "# Crear un directorio para guardar las imágenes aumentadas\n",
        "os.makedirs('aumento_datos', exist_ok=True)\n",
        "\n",
        "# Función para aplicar transformaciones\n",
        "def transformar_imagen(imagen):\n",
        "    # Rotar la imagen\n",
        "    (h, w) = imagen.shape[:2]\n",
        "    centro = (w // 2, h // 2)\n",
        "\n",
        "    # Rotaciones\n",
        "    for angulo in [30, 45]:\n",
        "        M = cv2.getRotationMatrix2D(centro, angulo, 1.0)\n",
        "        rotada = cv2.warpAffine(imagen, M, (w, h))\n",
        "        cv2.imwrite(f'aumento_datos/rotada_{angulo}.jpg', rotada)\n",
        "\n",
        "    # Escalado\n",
        "    escalada_aumentada = cv2.resize(imagen, None, fx=1.2, fy=1.2)\n",
        "    escalada_disminuida = cv2.resize(imagen, None, fx=0.8, fy=0.8)\n",
        "    cv2.imwrite('aumento_datos/escalada_aumentada.jpg', escalada_aumentada)\n",
        "    cv2.imwrite('aumento_datos/escalada_disminuida.jpg', escalada_disminuida)\n",
        "\n",
        "    # Traslación\n",
        "    M = np.float32([[1, 0, 10], [0, 1, 10]])\n",
        "    trasladada = cv2.warpAffine(imagen, M, (w, h))\n",
        "    cv2.imwrite('aumento_datos/trasladada.jpg', trasladada)\n",
        "\n",
        "# Cargar y transformar la imagen\n",
        "imagen = cv2.imread('amanecer.jpeg')\n",
        "transformar_imagen(imagen)\n"
      ],
      "metadata": {
        "id": "Zpg6nbBQM3eV"
      },
      "execution_count": null,
      "outputs": []
    },
    {
      "cell_type": "markdown",
      "source": [
        "bjetivo: Implementar una transformación afín básica (traslación, rotación, escalado) en una imagen.\n",
        "Solución\n",
        "\n",
        "    Cargar una imagen.\n",
        "    Aplicar las transformaciones de traslación, rotación y escalado.\n",
        "    Visualizar los resultados."
      ],
      "metadata": {
        "id": "bqYnSE7yyBxD"
      }
    }
  ]
}