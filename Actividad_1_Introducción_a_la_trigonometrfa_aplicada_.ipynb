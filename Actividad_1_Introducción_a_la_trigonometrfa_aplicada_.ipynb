{
  "nbformat": 4,
  "nbformat_minor": 0,
  "metadata": {
    "colab": {
      "provenance": [],
      "authorship_tag": "ABX9TyPJiMRDxz2pVmPV3M6O4ACb",
      "include_colab_link": true
    },
    "kernelspec": {
      "name": "python3",
      "display_name": "Python 3"
    },
    "language_info": {
      "name": "python"
    }
  },
  "cells": [
    {
      "cell_type": "markdown",
      "metadata": {
        "id": "view-in-github",
        "colab_type": "text"
      },
      "source": [
        "<a href=\"https://colab.research.google.com/github/fdurgam/Trigonometria/blob/main/Actividad_1_Introducci%C3%B3n_a_la_trigonometrfa_aplicada_.ipynb\" target=\"_parent\"><img src=\"https://colab.research.google.com/assets/colab-badge.svg\" alt=\"Open In Colab\"/></a>"
      ]
    },
    {
      "cell_type": "markdown",
      "source": [
        "#Introducción a la Trigonometría Aplicada con IA en Python**\n",
        "\n",
        "La trigonometría es una rama esencial de las matemáticas que se centra en las relaciones entre los ángulos y los lados de los triángulos. En el contexto de la Inteligencia Artificial (IA), la trigonometría se aplica en múltiples áreas, como la visión por computadora, el procesamiento de señales y el aprendizaje profundo, donde ayuda a manejar transformaciones geométricas, calcular distancias y entender patrones espaciales.\n",
        "Esta actividad está diseñado para brindarte una comprensión básica de cómo la trigonometría puede utilizarse en aplicaciones de IA usando Python. Exploraremos cómo las funciones trigonométricas, como seno, coseno y tangente, son herramientas fundamentales para trabajar con datos visuales, mejorar el reconocimiento de patrones y optimizar algoritmos de aprendizaje"
      ],
      "metadata": {
        "id": "3CIdeD0XVOHS"
      }
    },
    {
      "cell_type": "markdown",
      "source": [
        "**Ejercicio 1: Cálculo de Distancias con Trigonometría**\n",
        "En la visión por computadora, calcular la distancia entre dos puntos en una imagen es común. Usa el Teorema de Pitágoras para calcular la distancia entre dos puntos.\n",
        "nstrucciones:\n",
        "Dada la posición de dos puntos en un plano cartesiano: $P_1(x_1,y_1) y P_2(x_2,y_2).$\n",
        "calcula la distancia entre ellos usando la fórmula:\n",
        "$Distancia = {\\sqrt{(x_2-x_1)^2/(y_2-y_1)}^2}$\n"
      ],
      "metadata": {
        "id": "9v1q0EdcVenL"
      }
    },
    {
      "cell_type": "code",
      "source": [
        "import math\n",
        "\n",
        "def calcular_distancia(p1, p2):\n",
        "    x1, y1 = p1\n",
        "    x2, y2 = p2\n",
        "    distancia = math.sqrt((x2 - x1) ** 2 + (y2 - y1) ** 2)\n",
        "    return distancia\n",
        "\n",
        "# Prueba con dos puntos\n",
        "p1 = (3, 4)\n",
        "p2 = (7, 1)\n",
        "print(\"Distancia entre los puntos:\", calcular_distancia(p1, p2))\n"
      ],
      "metadata": {
        "id": "cQ-GcSpaXRCB",
        "outputId": "4f306c28-558e-478e-9a5e-a46e25b0c6a5",
        "colab": {
          "base_uri": "https://localhost:8080/"
        }
      },
      "execution_count": 1,
      "outputs": [
        {
          "output_type": "stream",
          "name": "stdout",
          "text": [
            "Distancia entre los puntos: 5.0\n"
          ]
        }
      ]
    },
    {
      "cell_type": "markdown",
      "source": [
        "**Ejercicio 2: Cálculo del Ángulo entre dos Vectores**\n",
        "\n",
        "Los ángulos entre vectores son importantes para determinar la orientación y dirección en imágenes o series de datos en IA.\n",
        "\n",
        "Instrucciones:\n",
        "Dados dos vectores $v_1=(x_1,y_1))$ y v2=(x_2,y_2), usa la fórmula del producto punto para calcular el ángulo entre ellos:\n",
        "$cos⁡(θ)=v_1⋅v_2∣∣v_1∣∣⋅∣∣v_2∣∣$\n",
        "$cos(θ)=∣∣v_1∣∣⋅∣∣v_2∣∣v1_⋅v_2​ donde v_1⋅v_2=x_1⋅x_2+y_1⋅y_2v_1⋅v_2=x_1​⋅x_2​+y_1​⋅y_2​.$"
      ],
      "metadata": {
        "id": "N8cIp4nCYMjr"
      }
    },
    {
      "cell_type": "code",
      "execution_count": 2,
      "metadata": {
        "id": "zCuhDuQU8bqz",
        "outputId": "8a92411d-86bd-4531-b5f5-23c07c94f002",
        "colab": {
          "base_uri": "https://localhost:8080/"
        }
      },
      "outputs": [
        {
          "output_type": "stream",
          "name": "stdout",
          "text": [
            "Ángulo entre los vectores: 10.304846468766044\n"
          ]
        }
      ],
      "source": [
        "import math\n",
        "\n",
        "def calcular_angulo(v1, v2):\n",
        "    x1, y1 = v1\n",
        "    x2, y2 = v2\n",
        "    producto_punto = x1 * x2 + y1 * y2\n",
        "    magnitud_v1 = math.sqrt(x1**2 + y1**2)\n",
        "    magnitud_v2 = math.sqrt(x2**2 + y2**2)\n",
        "    cos_theta = producto_punto / (magnitud_v1 * magnitud_v2)\n",
        "    angulo = math.acos(cos_theta)  # Ángulo en radianes\n",
        "    return math.degrees(angulo)    # Convertimos a grados\n",
        "\n",
        "# Prueba con dos vectores\n",
        "v1 = (1, 2)\n",
        "v2 = (3, 4)\n",
        "print(\"Ángulo entre los vectores:\", calcular_angulo(v1, v2))"
      ]
    },
    {
      "cell_type": "markdown",
      "source": [
        "Ejercicio 3: Transformaciones de Coordenadas para Imagen\n",
        "**texto en negrita**\n",
        "En la visión por computadora, a veces necesitamos rotar una imagen o un objeto en cierto ángulo.\n",
        "\n",
        "Instrucciones:\n",
        "\n",
        "Dado un punto $P(x,y)$ en el plano y un ángulo $θ$, rota el punto alrededor del origen usando:\n",
        "\n",
        "*   $x′=x⋅cos⁡(θ)−y⋅sin⁡(θ)$\n",
        "*   $x′=x⋅cos(θ)−y⋅sin(θ)$\n",
        "*   $y′=x⋅sin⁡(θ)+y⋅cos⁡(θ)$\n",
        "*   $y′=x⋅sin(θ)+y⋅cos(θ)$"
      ],
      "metadata": {
        "id": "y27OqTgb809B"
      }
    },
    {
      "cell_type": "code",
      "source": [
        "import math\n",
        "\n",
        "def rotar_punto(p, angulo_grados):\n",
        "    x, y = p\n",
        "    angulo_radianes = math.radians(angulo_grados)\n",
        "    x_rotado = x * math.cos(angulo_radianes) - y * math.sin(angulo_radianes)\n",
        "    y_rotado = x * math.sin(angulo_radianes) + y * math.cos(angulo_radianes)\n",
        "    return x_rotado, y_rotado\n",
        "\n",
        "# Prueba rotando el punto (1, 0) 90 grados\n",
        "punto = (1, 0)\n",
        "angulo = 90\n",
        "print(\"Punto rotado:\", rotar_punto(punto, angulo))"
      ],
      "metadata": {
        "id": "TN4QMeQbZRCE",
        "outputId": "dc92f097-ed95-4b18-8715-6cc1c1e8704e",
        "colab": {
          "base_uri": "https://localhost:8080/"
        }
      },
      "execution_count": 3,
      "outputs": [
        {
          "output_type": "stream",
          "name": "stdout",
          "text": [
            "Punto rotado: (6.123233995736766e-17, 1.0)\n"
          ]
        }
      ]
    },
    {
      "cell_type": "markdown",
      "source": [
        "**Ejercicio 4: Proyección de un Punto en un Eje**\n",
        "\n",
        "En algunos algoritmos de IA, como la regresión y el procesamiento de imágenes, es útil proyectar un punto en un eje específico.\n",
        "\n",
        "Instrucciones:\n",
        "\n",
        "Dado un punto $P(x,y)$ y un ángulo de inclinación del eje, proyecta el punto en el eje inclinado usando:\n",
        "*   $x′=x⋅cos⁡(θ)+y⋅sin⁡(θ)$\n",
        "*   $x′=x⋅cos(θ)+y⋅sin(θ)$"
      ],
      "metadata": {
        "id": "vxx1AW5JZVSD"
      }
    },
    {
      "cell_type": "code",
      "source": [
        "import math\n",
        "\n",
        "def proyectar_punto(p, angulo_grados):\n",
        "    x, y = p\n",
        "    angulo_radianes = math.radians(angulo_grados)\n",
        "    x_proyectado = x * math.cos(angulo_radianes) + y * math.sin(angulo_radianes)\n",
        "    return x_proyectado\n",
        "\n",
        "# Prueba proyectando el punto (3, 4) en un eje inclinado 45 grados\n",
        "punto = (3, 4)\n",
        "angulo = 45\n",
        "print(\"Proyección del punto en el eje:\", proyectar_punto(punto, angulo))"
      ],
      "metadata": {
        "id": "bzk2xO_oZi9V",
        "outputId": "b6b561d2-1e46-4854-b932-3e0c09385b2d",
        "colab": {
          "base_uri": "https://localhost:8080/"
        }
      },
      "execution_count": 4,
      "outputs": [
        {
          "output_type": "stream",
          "name": "stdout",
          "text": [
            "Proyección del punto en el eje: 4.949747468305833\n"
          ]
        }
      ]
    }
  ]
}